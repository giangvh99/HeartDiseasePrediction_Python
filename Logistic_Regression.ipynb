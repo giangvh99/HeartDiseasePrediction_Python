{
 "cells": [
  {
   "cell_type": "markdown",
   "metadata": {},
   "source": [
    "Logistic Regression"
   ]
  },
  {
   "cell_type": "code",
   "execution_count": 8,
   "metadata": {},
   "outputs": [
    {
     "name": "stdout",
     "output_type": "stream",
     "text": [
      "                       precision    recall  f1-score   support\n",
      "\n",
      "without heart disease       0.85      0.83      0.84       126\n",
      "   with heart disease       0.86      0.87      0.87       150\n",
      "\n",
      "             accuracy                           0.86       276\n",
      "            macro avg       0.85      0.85      0.85       276\n",
      "         weighted avg       0.85      0.86      0.85       276\n",
      "\n"
     ]
    },
    {
     "data": {
      "image/png": "[encoded data removed]",
      "text/plain": [
       "<Figure size 640x480 with 2 Axes>"
      ]
     },
     "metadata": {},
     "output_type": "display_data"
    },
    {
     "name": "stdout",
     "output_type": "stream",
     "text": [
      "Training time for Logistic Regression: 0.03 seconds\n",
      "\n",
      "Feature Importance (Coefficient):\n",
      "     Feature  Coefficient\n",
      "10        ca     2.667677\n",
      "7      exang     0.914973\n",
      "8    oldpeak     0.827224\n",
      "1        sex     0.767650\n",
      "4   trestbps     0.655070\n",
      "11      thal     0.499735\n",
      "6     thalch     0.265037\n",
      "5        fbs     0.045880\n",
      "0        age    -0.027477\n",
      "2    dataset    -0.067722\n",
      "3         cp    -0.503014\n",
      "9      slope    -1.013430\n"
     ]
    }
   ],
   "source": [
    "#Load data\n",
    "import pandas as pd\n",
    "df = pd.read_excel(r'C:\\Users\\Admin\\Desktop\\prepocessing_and_minmax_scaling.xlsx')\n",
    "\n",
    "df[\"num\"] = df[\"num\"].replace([2, 3, 4], 1)\n",
    "# Split the data into features (X) and target (y)\n",
    "X = df.drop(['num','chol','restecg'],axis= 1)\n",
    "y = df['num']\n",
    "\n",
    "# Split the data into training and test sets\n",
    "from sklearn.model_selection import RandomizedSearchCV, train_test_split\n",
    "X_train, X_test, y_train, y_test = train_test_split(X, y, test_size=0.3)\n",
    "\n",
    "# import the class\n",
    "from sklearn.linear_model import LogisticRegression\n",
    "\n",
    "# instantiate the model (using the default parameters)\n",
    "logreg = LogisticRegression(random_state=16,max_iter=700)\n",
    "\n",
    "# fit the model with data\n",
    "logreg.fit(X_train, y_train)\n",
    "\n",
    "y_pred = logreg.predict(X_test)\n",
    "\n",
    "#Check accuracy score and Confusion matrix\n",
    "from sklearn.metrics import accuracy_score\n",
    "import matplotlib.pyplot as plt\n",
    "from sklearn.metrics import confusion_matrix, ConfusionMatrixDisplay\n",
    "from sklearn.metrics import classification_report\n",
    "target_names = ['without heart disease', 'with heart disease']\n",
    "print(classification_report(y_test, y_pred, target_names=target_names))\n",
    "\n",
    "cm = confusion_matrix(y_test, y_pred)\n",
    "disp = ConfusionMatrixDisplay(confusion_matrix=cm, display_labels=[0, 1])\n",
    "disp.plot(cmap=plt.cm.Blues)  \n",
    "plt.title(\"Confusion Matrix\")\n",
    "plt.show()\n",
    "\n",
    "\n",
    "\n",
    "import time\n",
    "start_time = time.time()\n",
    "logreg.fit(X_train, y_train)\n",
    "end_time = time.time()\n",
    "print(f\"Training time for Logistic Regression: {end_time - start_time:.2f} seconds\")\n",
    "\n",
    "#Evaluate feature_score by Coefficients \n",
    "coefficients = logreg.coef_[0]\n",
    "\n",
    "# Display feature importance using coefficients \n",
    "feature_importance = pd.DataFrame({\n",
    "    'Feature': X.columns,\n",
    "    'Coefficient': coefficients,\n",
    "})\n",
    "print(\"\\nFeature Importance (Coefficient):\")\n",
    "print(feature_importance.sort_values(by='Coefficient', ascending=False))\n"
   ]
  }
 ],
 "metadata": {
  "kernelspec": {
   "display_name": "base",
   "language": "python",
   "name": "python3"
  },
  "language_info": {
   "codemirror_mode": {
    "name": "ipython",
    "version": 3
   },
   "file_extension": ".py",
   "mimetype": "text/x-python",
   "name": "python",
   "nbconvert_exporter": "python",
   "pygments_lexer": "ipython3",
   "version": "3.12.3"
  }
 },
 "nbformat": 4,
 "nbformat_minor": 2
}
